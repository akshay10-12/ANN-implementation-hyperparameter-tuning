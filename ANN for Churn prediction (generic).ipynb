{
 "cells": [
  {
   "cell_type": "code",
   "execution_count": 1,
   "metadata": {},
   "outputs": [],
   "source": [
    "#Artificial Neural Network from scratch"
   ]
  },
  {
   "cell_type": "code",
   "execution_count": 2,
   "metadata": {},
   "outputs": [],
   "source": [
    "# Data Preprocessing"
   ]
  },
  {
   "cell_type": "code",
   "execution_count": 3,
   "metadata": {},
   "outputs": [],
   "source": [
    "import numpy as np \n",
    "import pandas as pd \n",
    "import matplotlib.pyplot as plt \n",
    "import seaborn as sns \n",
    "\n",
    "dataset = pd.read_csv('Churn_Modelling.csv')"
   ]
  },
  {
   "cell_type": "code",
   "execution_count": 4,
   "metadata": {},
   "outputs": [
    {
     "data": {
      "text/html": [
       "<div>\n",
       "<style scoped>\n",
       "    .dataframe tbody tr th:only-of-type {\n",
       "        vertical-align: middle;\n",
       "    }\n",
       "\n",
       "    .dataframe tbody tr th {\n",
       "        vertical-align: top;\n",
       "    }\n",
       "\n",
       "    .dataframe thead th {\n",
       "        text-align: right;\n",
       "    }\n",
       "</style>\n",
       "<table border=\"1\" class=\"dataframe\">\n",
       "  <thead>\n",
       "    <tr style=\"text-align: right;\">\n",
       "      <th></th>\n",
       "      <th>RowNumber</th>\n",
       "      <th>CustomerId</th>\n",
       "      <th>Surname</th>\n",
       "      <th>CreditScore</th>\n",
       "      <th>Geography</th>\n",
       "      <th>Gender</th>\n",
       "      <th>Age</th>\n",
       "      <th>Tenure</th>\n",
       "      <th>Balance</th>\n",
       "      <th>NumOfProducts</th>\n",
       "      <th>HasCrCard</th>\n",
       "      <th>IsActiveMember</th>\n",
       "      <th>EstimatedSalary</th>\n",
       "      <th>Exited</th>\n",
       "    </tr>\n",
       "  </thead>\n",
       "  <tbody>\n",
       "    <tr>\n",
       "      <th>0</th>\n",
       "      <td>1</td>\n",
       "      <td>15634602</td>\n",
       "      <td>Hargrave</td>\n",
       "      <td>619</td>\n",
       "      <td>France</td>\n",
       "      <td>Female</td>\n",
       "      <td>42</td>\n",
       "      <td>2</td>\n",
       "      <td>0.00</td>\n",
       "      <td>1</td>\n",
       "      <td>1</td>\n",
       "      <td>1</td>\n",
       "      <td>101348.88</td>\n",
       "      <td>1</td>\n",
       "    </tr>\n",
       "    <tr>\n",
       "      <th>1</th>\n",
       "      <td>2</td>\n",
       "      <td>15647311</td>\n",
       "      <td>Hill</td>\n",
       "      <td>608</td>\n",
       "      <td>Spain</td>\n",
       "      <td>Female</td>\n",
       "      <td>41</td>\n",
       "      <td>1</td>\n",
       "      <td>83807.86</td>\n",
       "      <td>1</td>\n",
       "      <td>0</td>\n",
       "      <td>1</td>\n",
       "      <td>112542.58</td>\n",
       "      <td>0</td>\n",
       "    </tr>\n",
       "    <tr>\n",
       "      <th>2</th>\n",
       "      <td>3</td>\n",
       "      <td>15619304</td>\n",
       "      <td>Onio</td>\n",
       "      <td>502</td>\n",
       "      <td>France</td>\n",
       "      <td>Female</td>\n",
       "      <td>42</td>\n",
       "      <td>8</td>\n",
       "      <td>159660.80</td>\n",
       "      <td>3</td>\n",
       "      <td>1</td>\n",
       "      <td>0</td>\n",
       "      <td>113931.57</td>\n",
       "      <td>1</td>\n",
       "    </tr>\n",
       "    <tr>\n",
       "      <th>3</th>\n",
       "      <td>4</td>\n",
       "      <td>15701354</td>\n",
       "      <td>Boni</td>\n",
       "      <td>699</td>\n",
       "      <td>France</td>\n",
       "      <td>Female</td>\n",
       "      <td>39</td>\n",
       "      <td>1</td>\n",
       "      <td>0.00</td>\n",
       "      <td>2</td>\n",
       "      <td>0</td>\n",
       "      <td>0</td>\n",
       "      <td>93826.63</td>\n",
       "      <td>0</td>\n",
       "    </tr>\n",
       "    <tr>\n",
       "      <th>4</th>\n",
       "      <td>5</td>\n",
       "      <td>15737888</td>\n",
       "      <td>Mitchell</td>\n",
       "      <td>850</td>\n",
       "      <td>Spain</td>\n",
       "      <td>Female</td>\n",
       "      <td>43</td>\n",
       "      <td>2</td>\n",
       "      <td>125510.82</td>\n",
       "      <td>1</td>\n",
       "      <td>1</td>\n",
       "      <td>1</td>\n",
       "      <td>79084.10</td>\n",
       "      <td>0</td>\n",
       "    </tr>\n",
       "  </tbody>\n",
       "</table>\n",
       "</div>"
      ],
      "text/plain": [
       "   RowNumber  CustomerId   Surname  CreditScore Geography  Gender  Age  \\\n",
       "0          1    15634602  Hargrave          619    France  Female   42   \n",
       "1          2    15647311      Hill          608     Spain  Female   41   \n",
       "2          3    15619304      Onio          502    France  Female   42   \n",
       "3          4    15701354      Boni          699    France  Female   39   \n",
       "4          5    15737888  Mitchell          850     Spain  Female   43   \n",
       "\n",
       "   Tenure    Balance  NumOfProducts  HasCrCard  IsActiveMember  \\\n",
       "0       2       0.00              1          1               1   \n",
       "1       1   83807.86              1          0               1   \n",
       "2       8  159660.80              3          1               0   \n",
       "3       1       0.00              2          0               0   \n",
       "4       2  125510.82              1          1               1   \n",
       "\n",
       "   EstimatedSalary  Exited  \n",
       "0        101348.88       1  \n",
       "1        112542.58       0  \n",
       "2        113931.57       1  \n",
       "3         93826.63       0  \n",
       "4         79084.10       0  "
      ]
     },
     "execution_count": 4,
     "metadata": {},
     "output_type": "execute_result"
    }
   ],
   "source": [
    "dataset.head()"
   ]
  },
  {
   "cell_type": "code",
   "execution_count": 5,
   "metadata": {},
   "outputs": [],
   "source": [
    "X = dataset.iloc[:, 3:13]\n",
    "y = dataset.iloc[:,13]"
   ]
  },
  {
   "cell_type": "code",
   "execution_count": 6,
   "metadata": {},
   "outputs": [],
   "source": [
    "geography = pd.get_dummies(X['Geography'], drop_first = True)\n",
    "gender = pd.get_dummies(X['Gender'], drop_first = True)"
   ]
  },
  {
   "cell_type": "code",
   "execution_count": 7,
   "metadata": {},
   "outputs": [],
   "source": [
    "X = pd.concat([X, geography, gender], axis = 1)"
   ]
  },
  {
   "cell_type": "code",
   "execution_count": 8,
   "metadata": {},
   "outputs": [],
   "source": [
    "X = X.drop(['Geography', 'Gender'], axis = 1)"
   ]
  },
  {
   "cell_type": "code",
   "execution_count": 9,
   "metadata": {},
   "outputs": [],
   "source": [
    "#Splitting the dataset into training and testing set "
   ]
  },
  {
   "cell_type": "code",
   "execution_count": 10,
   "metadata": {},
   "outputs": [],
   "source": [
    "from sklearn.model_selection import train_test_split\n",
    "X_train, X_test, y_train, y_test = train_test_split(X, y, test_size = 0.2, random_state = 42)"
   ]
  },
  {
   "cell_type": "code",
   "execution_count": 11,
   "metadata": {},
   "outputs": [],
   "source": [
    "#Feature Scaling \n",
    "from sklearn.preprocessing import StandardScaler\n",
    "sc = StandardScaler() \n",
    "X_train = sc.fit_transform(X_train) \n",
    "X_test = sc.transform(X_test)"
   ]
  },
  {
   "cell_type": "markdown",
   "metadata": {},
   "source": [
    "### Creating the ANN "
   ]
  },
  {
   "cell_type": "code",
   "execution_count": 12,
   "metadata": {},
   "outputs": [],
   "source": [
    "#Importing Keras libraries and packages \n",
    "import keras \n",
    "from keras.models import Sequential\n",
    "from keras.layers import Dense \n",
    "from keras.layers import Dropout \n",
    "from keras.layers import LeakyReLU, PReLU, ELU\n",
    "from keras.layers import Dropout"
   ]
  },
  {
   "cell_type": "code",
   "execution_count": 13,
   "metadata": {},
   "outputs": [],
   "source": [
    "#Initializing the ANN\n",
    "classifier = Sequential() "
   ]
  },
  {
   "cell_type": "code",
   "execution_count": 14,
   "metadata": {},
   "outputs": [],
   "source": [
    "#Adding the input layer and the first hidden layer \n",
    "classifier.add(Dense(units = 6, kernel_initializer = 'he_uniform', activation = 'relu', input_dim = 11))"
   ]
  },
  {
   "cell_type": "code",
   "execution_count": 15,
   "metadata": {},
   "outputs": [],
   "source": [
    "#Adding the second hidden layer \n",
    "classifier.add(Dense(units = 6, kernel_initializer ='he_uniform', activation = 'relu'))"
   ]
  },
  {
   "cell_type": "code",
   "execution_count": 16,
   "metadata": {},
   "outputs": [],
   "source": [
    "#Adding the output layer \n",
    "classifier.add(Dense(units = 1, kernel_initializer = 'glorot_uniform', activation = 'sigmoid'))"
   ]
  },
  {
   "cell_type": "code",
   "execution_count": 17,
   "metadata": {},
   "outputs": [],
   "source": [
    "#Compiling the ANN \n",
    "classifier.compile(optimizer = 'Adamax', loss = 'binary_crossentropy', metrics = ['accuracy'])"
   ]
  },
  {
   "cell_type": "code",
   "execution_count": 18,
   "metadata": {},
   "outputs": [
    {
     "name": "stdout",
     "output_type": "stream",
     "text": [
      "Epoch 1/100\n",
      "536/536 [==============================] - 3s 4ms/step - loss: 0.6417 - accuracy: 0.6516 - val_loss: 0.5467 - val_accuracy: 0.7906\n",
      "Epoch 2/100\n",
      "536/536 [==============================] - 2s 3ms/step - loss: 0.5224 - accuracy: 0.7962 - val_loss: 0.5170 - val_accuracy: 0.7910\n",
      "Epoch 3/100\n",
      "536/536 [==============================] - 2s 3ms/step - loss: 0.5071 - accuracy: 0.7962 - val_loss: 0.5079 - val_accuracy: 0.7910\n",
      "Epoch 4/100\n",
      "536/536 [==============================] - 1s 3ms/step - loss: 0.4989 - accuracy: 0.7962 - val_loss: 0.5002 - val_accuracy: 0.7910\n",
      "Epoch 5/100\n",
      "536/536 [==============================] - 2s 3ms/step - loss: 0.4917 - accuracy: 0.7962 - val_loss: 0.4928 - val_accuracy: 0.7910\n",
      "Epoch 6/100\n",
      "536/536 [==============================] - 1s 3ms/step - loss: 0.4852 - accuracy: 0.7962 - val_loss: 0.4866 - val_accuracy: 0.7910\n",
      "Epoch 7/100\n",
      "536/536 [==============================] - 2s 3ms/step - loss: 0.4790 - accuracy: 0.7962 - val_loss: 0.4796 - val_accuracy: 0.7910\n",
      "Epoch 8/100\n",
      "536/536 [==============================] - 2s 3ms/step - loss: 0.4726 - accuracy: 0.7962 - val_loss: 0.4724 - val_accuracy: 0.7910\n",
      "Epoch 9/100\n",
      "536/536 [==============================] - 2s 3ms/step - loss: 0.4660 - accuracy: 0.7964 - val_loss: 0.4656 - val_accuracy: 0.7906\n",
      "Epoch 10/100\n",
      "536/536 [==============================] - 2s 3ms/step - loss: 0.4593 - accuracy: 0.7972 - val_loss: 0.4589 - val_accuracy: 0.7910\n",
      "Epoch 11/100\n",
      "536/536 [==============================] - 2s 3ms/step - loss: 0.4530 - accuracy: 0.7996 - val_loss: 0.4529 - val_accuracy: 0.7974\n",
      "Epoch 12/100\n",
      "536/536 [==============================] - 1s 3ms/step - loss: 0.4469 - accuracy: 0.8035 - val_loss: 0.4482 - val_accuracy: 0.7993\n",
      "Epoch 13/100\n",
      "536/536 [==============================] - 2s 3ms/step - loss: 0.4412 - accuracy: 0.8074 - val_loss: 0.4437 - val_accuracy: 0.8035\n",
      "Epoch 14/100\n",
      "536/536 [==============================] - 2s 3ms/step - loss: 0.4361 - accuracy: 0.8115 - val_loss: 0.4401 - val_accuracy: 0.8065\n",
      "Epoch 15/100\n",
      "536/536 [==============================] - 2s 3ms/step - loss: 0.4315 - accuracy: 0.8121 - val_loss: 0.4368 - val_accuracy: 0.8088\n",
      "Epoch 16/100\n",
      "536/536 [==============================] - 2s 3ms/step - loss: 0.4274 - accuracy: 0.8141 - val_loss: 0.4341 - val_accuracy: 0.8099\n",
      "Epoch 17/100\n",
      "536/536 [==============================] - 2s 3ms/step - loss: 0.4239 - accuracy: 0.8158 - val_loss: 0.4318 - val_accuracy: 0.8107\n",
      "Epoch 18/100\n",
      "536/536 [==============================] - 2s 3ms/step - loss: 0.4207 - accuracy: 0.8186 - val_loss: 0.4300 - val_accuracy: 0.8122\n",
      "Epoch 19/100\n",
      "536/536 [==============================] - 2s 4ms/step - loss: 0.4177 - accuracy: 0.8192 - val_loss: 0.4281 - val_accuracy: 0.8164\n",
      "Epoch 20/100\n",
      "536/536 [==============================] - 2s 4ms/step - loss: 0.4153 - accuracy: 0.8237 - val_loss: 0.4268 - val_accuracy: 0.8164\n",
      "Epoch 21/100\n",
      "536/536 [==============================] - 2s 3ms/step - loss: 0.4129 - accuracy: 0.8246 - val_loss: 0.4255 - val_accuracy: 0.8190\n",
      "Epoch 22/100\n",
      "536/536 [==============================] - 2s 3ms/step - loss: 0.4107 - accuracy: 0.8248 - val_loss: 0.4241 - val_accuracy: 0.8198\n",
      "Epoch 23/100\n",
      "536/536 [==============================] - 2s 3ms/step - loss: 0.4088 - accuracy: 0.8252 - val_loss: 0.4230 - val_accuracy: 0.8228\n",
      "Epoch 24/100\n",
      "536/536 [==============================] - 2s 3ms/step - loss: 0.4071 - accuracy: 0.8293 - val_loss: 0.4220 - val_accuracy: 0.8236\n",
      "Epoch 25/100\n",
      "536/536 [==============================] - 2s 3ms/step - loss: 0.4055 - accuracy: 0.8289 - val_loss: 0.4211 - val_accuracy: 0.8224\n",
      "Epoch 26/100\n",
      "536/536 [==============================] - 2s 3ms/step - loss: 0.4041 - accuracy: 0.8294 - val_loss: 0.4203 - val_accuracy: 0.8239\n",
      "Epoch 27/100\n",
      "536/536 [==============================] - 2s 3ms/step - loss: 0.4028 - accuracy: 0.8304 - val_loss: 0.4195 - val_accuracy: 0.8247\n",
      "Epoch 28/100\n",
      "536/536 [==============================] - 2s 3ms/step - loss: 0.4015 - accuracy: 0.8306 - val_loss: 0.4188 - val_accuracy: 0.8243\n",
      "Epoch 29/100\n",
      "536/536 [==============================] - 2s 3ms/step - loss: 0.4004 - accuracy: 0.8309 - val_loss: 0.4182 - val_accuracy: 0.8251\n",
      "Epoch 30/100\n",
      "536/536 [==============================] - 2s 3ms/step - loss: 0.3991 - accuracy: 0.8326 - val_loss: 0.4177 - val_accuracy: 0.8236\n",
      "Epoch 31/100\n",
      "536/536 [==============================] - 2s 3ms/step - loss: 0.3983 - accuracy: 0.8326 - val_loss: 0.4169 - val_accuracy: 0.8270\n",
      "Epoch 32/100\n",
      "536/536 [==============================] - 1s 3ms/step - loss: 0.3973 - accuracy: 0.8322 - val_loss: 0.4164 - val_accuracy: 0.8266\n",
      "Epoch 33/100\n",
      "536/536 [==============================] - 2s 3ms/step - loss: 0.3961 - accuracy: 0.8321 - val_loss: 0.4157 - val_accuracy: 0.8251\n",
      "Epoch 34/100\n",
      "536/536 [==============================] - 2s 3ms/step - loss: 0.3952 - accuracy: 0.8324 - val_loss: 0.4153 - val_accuracy: 0.8251\n",
      "Epoch 35/100\n",
      "536/536 [==============================] - 2s 3ms/step - loss: 0.3942 - accuracy: 0.8313 - val_loss: 0.4146 - val_accuracy: 0.8239\n",
      "Epoch 36/100\n",
      "536/536 [==============================] - 2s 3ms/step - loss: 0.3933 - accuracy: 0.8334 - val_loss: 0.4142 - val_accuracy: 0.8232\n",
      "Epoch 37/100\n",
      "536/536 [==============================] - 2s 3ms/step - loss: 0.3924 - accuracy: 0.8322 - val_loss: 0.4134 - val_accuracy: 0.8239\n",
      "Epoch 38/100\n",
      "536/536 [==============================] - 1s 3ms/step - loss: 0.3915 - accuracy: 0.8334 - val_loss: 0.4129 - val_accuracy: 0.8224\n",
      "Epoch 39/100\n",
      "536/536 [==============================] - 2s 3ms/step - loss: 0.3906 - accuracy: 0.8334 - val_loss: 0.4128 - val_accuracy: 0.8239\n",
      "Epoch 40/100\n",
      "536/536 [==============================] - 2s 3ms/step - loss: 0.3900 - accuracy: 0.8341 - val_loss: 0.4120 - val_accuracy: 0.8205\n",
      "Epoch 41/100\n",
      "536/536 [==============================] - 2s 3ms/step - loss: 0.3891 - accuracy: 0.8336 - val_loss: 0.4115 - val_accuracy: 0.8217\n",
      "Epoch 42/100\n",
      "536/536 [==============================] - 2s 3ms/step - loss: 0.3882 - accuracy: 0.8339 - val_loss: 0.4111 - val_accuracy: 0.8243\n",
      "Epoch 43/100\n",
      "536/536 [==============================] - 2s 3ms/step - loss: 0.3875 - accuracy: 0.8350 - val_loss: 0.4103 - val_accuracy: 0.8232\n",
      "Epoch 44/100\n",
      "536/536 [==============================] - 2s 4ms/step - loss: 0.3867 - accuracy: 0.8350 - val_loss: 0.4099 - val_accuracy: 0.8236\n",
      "Epoch 45/100\n",
      "536/536 [==============================] - 2s 4ms/step - loss: 0.3859 - accuracy: 0.8349 - val_loss: 0.4093 - val_accuracy: 0.8251\n",
      "Epoch 46/100\n",
      "536/536 [==============================] - 2s 3ms/step - loss: 0.3850 - accuracy: 0.8364 - val_loss: 0.4087 - val_accuracy: 0.8239\n",
      "Epoch 47/100\n",
      "536/536 [==============================] - 2s 3ms/step - loss: 0.3842 - accuracy: 0.8352 - val_loss: 0.4083 - val_accuracy: 0.8266\n",
      "Epoch 48/100\n",
      "536/536 [==============================] - 2s 3ms/step - loss: 0.3834 - accuracy: 0.8356 - val_loss: 0.4078 - val_accuracy: 0.8258\n",
      "Epoch 49/100\n",
      "536/536 [==============================] - 2s 3ms/step - loss: 0.3825 - accuracy: 0.8364 - val_loss: 0.4073 - val_accuracy: 0.8247\n",
      "Epoch 50/100\n",
      "536/536 [==============================] - 1s 3ms/step - loss: 0.3817 - accuracy: 0.8356 - val_loss: 0.4067 - val_accuracy: 0.8262\n",
      "Epoch 51/100\n",
      "536/536 [==============================] - 1s 3ms/step - loss: 0.3809 - accuracy: 0.8369 - val_loss: 0.4064 - val_accuracy: 0.8243\n",
      "Epoch 52/100\n",
      "536/536 [==============================] - 2s 3ms/step - loss: 0.3800 - accuracy: 0.8350 - val_loss: 0.4057 - val_accuracy: 0.8251\n",
      "Epoch 53/100\n",
      "536/536 [==============================] - 1s 3ms/step - loss: 0.3793 - accuracy: 0.8362 - val_loss: 0.4051 - val_accuracy: 0.8236\n",
      "Epoch 54/100\n",
      "536/536 [==============================] - 2s 3ms/step - loss: 0.3785 - accuracy: 0.8352 - val_loss: 0.4047 - val_accuracy: 0.8247\n",
      "Epoch 55/100\n",
      "536/536 [==============================] - 2s 3ms/step - loss: 0.3778 - accuracy: 0.8360 - val_loss: 0.4043 - val_accuracy: 0.8236\n",
      "Epoch 56/100\n",
      "536/536 [==============================] - 2s 3ms/step - loss: 0.3769 - accuracy: 0.8364 - val_loss: 0.4037 - val_accuracy: 0.8247\n",
      "Epoch 57/100\n",
      "536/536 [==============================] - 2s 3ms/step - loss: 0.3763 - accuracy: 0.8350 - val_loss: 0.4035 - val_accuracy: 0.8243\n",
      "Epoch 58/100\n",
      "536/536 [==============================] - 2s 3ms/step - loss: 0.3756 - accuracy: 0.8354 - val_loss: 0.4028 - val_accuracy: 0.8251\n",
      "Epoch 59/100\n",
      "536/536 [==============================] - 2s 4ms/step - loss: 0.3750 - accuracy: 0.8358 - val_loss: 0.4021 - val_accuracy: 0.8239\n",
      "Epoch 60/100\n",
      "536/536 [==============================] - 2s 3ms/step - loss: 0.3744 - accuracy: 0.8345 - val_loss: 0.4018 - val_accuracy: 0.8243\n",
      "Epoch 61/100\n",
      "536/536 [==============================] - 1s 3ms/step - loss: 0.3737 - accuracy: 0.8354 - val_loss: 0.4012 - val_accuracy: 0.8258\n",
      "Epoch 62/100\n",
      "536/536 [==============================] - 1s 3ms/step - loss: 0.3732 - accuracy: 0.8343 - val_loss: 0.4007 - val_accuracy: 0.8258\n",
      "Epoch 63/100\n",
      "536/536 [==============================] - 1s 3ms/step - loss: 0.3727 - accuracy: 0.8352 - val_loss: 0.4002 - val_accuracy: 0.8251\n",
      "Epoch 64/100\n",
      "536/536 [==============================] - 1s 3ms/step - loss: 0.3720 - accuracy: 0.8362 - val_loss: 0.3998 - val_accuracy: 0.8254\n",
      "Epoch 65/100\n",
      "536/536 [==============================] - 1s 3ms/step - loss: 0.3715 - accuracy: 0.8365 - val_loss: 0.3991 - val_accuracy: 0.8254\n",
      "Epoch 66/100\n",
      "536/536 [==============================] - 1s 2ms/step - loss: 0.3709 - accuracy: 0.8356 - val_loss: 0.3986 - val_accuracy: 0.8266\n",
      "Epoch 67/100\n",
      "536/536 [==============================] - 1s 3ms/step - loss: 0.3704 - accuracy: 0.8364 - val_loss: 0.3981 - val_accuracy: 0.8243\n",
      "Epoch 68/100\n",
      "536/536 [==============================] - 2s 3ms/step - loss: 0.3698 - accuracy: 0.8358 - val_loss: 0.3975 - val_accuracy: 0.8254\n",
      "Epoch 69/100\n",
      "536/536 [==============================] - 1s 2ms/step - loss: 0.3692 - accuracy: 0.8362 - val_loss: 0.3968 - val_accuracy: 0.8254\n",
      "Epoch 70/100\n",
      "536/536 [==============================] - 2s 3ms/step - loss: 0.3687 - accuracy: 0.8377 - val_loss: 0.3966 - val_accuracy: 0.8247\n",
      "Epoch 71/100\n",
      "536/536 [==============================] - 2s 3ms/step - loss: 0.3682 - accuracy: 0.8369 - val_loss: 0.3958 - val_accuracy: 0.8258\n",
      "Epoch 72/100\n",
      "536/536 [==============================] - 1s 3ms/step - loss: 0.3675 - accuracy: 0.8367 - val_loss: 0.3954 - val_accuracy: 0.8243\n",
      "Epoch 73/100\n",
      "536/536 [==============================] - 2s 3ms/step - loss: 0.3672 - accuracy: 0.8364 - val_loss: 0.3945 - val_accuracy: 0.8266\n",
      "Epoch 74/100\n",
      "536/536 [==============================] - 2s 3ms/step - loss: 0.3665 - accuracy: 0.8364 - val_loss: 0.3940 - val_accuracy: 0.8266\n",
      "Epoch 75/100\n",
      "536/536 [==============================] - 2s 3ms/step - loss: 0.3658 - accuracy: 0.8367 - val_loss: 0.3936 - val_accuracy: 0.8254\n",
      "Epoch 76/100\n",
      "536/536 [==============================] - 1s 2ms/step - loss: 0.3654 - accuracy: 0.8365 - val_loss: 0.3929 - val_accuracy: 0.8258\n",
      "Epoch 77/100\n",
      "536/536 [==============================] - 2s 3ms/step - loss: 0.3648 - accuracy: 0.8367 - val_loss: 0.3922 - val_accuracy: 0.8236\n",
      "Epoch 78/100\n",
      "536/536 [==============================] - 2s 3ms/step - loss: 0.3642 - accuracy: 0.8382 - val_loss: 0.3916 - val_accuracy: 0.8247\n",
      "Epoch 79/100\n",
      "536/536 [==============================] - 1s 2ms/step - loss: 0.3638 - accuracy: 0.8373 - val_loss: 0.3911 - val_accuracy: 0.8239\n",
      "Epoch 80/100\n",
      "536/536 [==============================] - 1s 2ms/step - loss: 0.3632 - accuracy: 0.8378 - val_loss: 0.3906 - val_accuracy: 0.8243\n",
      "Epoch 81/100\n",
      "536/536 [==============================] - 1s 3ms/step - loss: 0.3626 - accuracy: 0.8386 - val_loss: 0.3899 - val_accuracy: 0.8236\n",
      "Epoch 82/100\n",
      "536/536 [==============================] - 1s 2ms/step - loss: 0.3621 - accuracy: 0.8375 - val_loss: 0.3896 - val_accuracy: 0.8258\n",
      "Epoch 83/100\n",
      "536/536 [==============================] - 1s 3ms/step - loss: 0.3616 - accuracy: 0.8375 - val_loss: 0.3893 - val_accuracy: 0.8254\n",
      "Epoch 84/100\n",
      "536/536 [==============================] - 1s 3ms/step - loss: 0.3611 - accuracy: 0.8375 - val_loss: 0.3887 - val_accuracy: 0.8251\n",
      "Epoch 85/100\n",
      "536/536 [==============================] - 2s 3ms/step - loss: 0.3606 - accuracy: 0.8369 - val_loss: 0.3881 - val_accuracy: 0.8239\n",
      "Epoch 86/100\n",
      "536/536 [==============================] - 1s 2ms/step - loss: 0.3602 - accuracy: 0.8371 - val_loss: 0.3878 - val_accuracy: 0.8254\n",
      "Epoch 87/100\n",
      "536/536 [==============================] - 1s 3ms/step - loss: 0.3596 - accuracy: 0.8369 - val_loss: 0.3873 - val_accuracy: 0.8247\n",
      "Epoch 88/100\n",
      "536/536 [==============================] - 1s 2ms/step - loss: 0.3591 - accuracy: 0.8393 - val_loss: 0.3868 - val_accuracy: 0.8338\n",
      "Epoch 89/100\n",
      "536/536 [==============================] - 1s 3ms/step - loss: 0.3587 - accuracy: 0.8481 - val_loss: 0.3864 - val_accuracy: 0.8323\n",
      "Epoch 90/100\n",
      "536/536 [==============================] - 1s 2ms/step - loss: 0.3583 - accuracy: 0.8505 - val_loss: 0.3862 - val_accuracy: 0.8338\n",
      "Epoch 91/100\n",
      "536/536 [==============================] - 1s 2ms/step - loss: 0.3577 - accuracy: 0.8505 - val_loss: 0.3858 - val_accuracy: 0.8338\n",
      "Epoch 92/100\n",
      "536/536 [==============================] - 1s 2ms/step - loss: 0.3574 - accuracy: 0.8509 - val_loss: 0.3852 - val_accuracy: 0.8338\n",
      "Epoch 93/100\n",
      "536/536 [==============================] - 1s 3ms/step - loss: 0.3568 - accuracy: 0.8496 - val_loss: 0.3847 - val_accuracy: 0.8342\n",
      "Epoch 94/100\n",
      "536/536 [==============================] - 2s 3ms/step - loss: 0.3564 - accuracy: 0.8511 - val_loss: 0.3844 - val_accuracy: 0.8349\n",
      "Epoch 95/100\n",
      "536/536 [==============================] - 2s 3ms/step - loss: 0.3558 - accuracy: 0.8500 - val_loss: 0.3845 - val_accuracy: 0.8353\n",
      "Epoch 96/100\n",
      "536/536 [==============================] - 2s 3ms/step - loss: 0.3557 - accuracy: 0.8507 - val_loss: 0.3838 - val_accuracy: 0.8349\n",
      "Epoch 97/100\n",
      "536/536 [==============================] - 2s 3ms/step - loss: 0.3550 - accuracy: 0.8518 - val_loss: 0.3833 - val_accuracy: 0.8353\n",
      "Epoch 98/100\n",
      "536/536 [==============================] - 2s 3ms/step - loss: 0.3545 - accuracy: 0.8528 - val_loss: 0.3827 - val_accuracy: 0.8372\n",
      "Epoch 99/100\n",
      "536/536 [==============================] - 2s 3ms/step - loss: 0.3538 - accuracy: 0.8503 - val_loss: 0.3831 - val_accuracy: 0.8349\n",
      "Epoch 100/100\n",
      "536/536 [==============================] - 2s 4ms/step - loss: 0.3537 - accuracy: 0.8537 - val_loss: 0.3825 - val_accuracy: 0.8357\n"
     ]
    }
   ],
   "source": [
    "#Fitting the ANN to the training set \n",
    "model_history = classifier.fit(X_train, y_train, validation_split = 0.33, batch_size = 10, epochs = 100)"
   ]
  },
  {
   "cell_type": "markdown",
   "metadata": {},
   "source": [
    "### Making the preditions and evaluating the model "
   ]
  },
  {
   "cell_type": "code",
   "execution_count": 19,
   "metadata": {},
   "outputs": [
    {
     "name": "stdout",
     "output_type": "stream",
     "text": [
      "63/63 [==============================] - 0s 1ms/step\n"
     ]
    }
   ],
   "source": [
    "#Predicting the test set results \n",
    "y_pred = classifier.predict(X_test) \n",
    "y_pred = (y_pred > 0.5) "
   ]
  },
  {
   "cell_type": "code",
   "execution_count": 20,
   "metadata": {},
   "outputs": [],
   "source": [
    "#Making the confusion matrix \n",
    "from sklearn.metrics import confusion_matrix\n",
    "cm = confusion_matrix(y_test, y_pred) "
   ]
  },
  {
   "cell_type": "code",
   "execution_count": 21,
   "metadata": {},
   "outputs": [],
   "source": [
    "#Calculate the accuracy \n",
    "from sklearn.metrics import accuracy_score \n",
    "score = accuracy_score(y_test, y_pred)"
   ]
  },
  {
   "cell_type": "code",
   "execution_count": 22,
   "metadata": {},
   "outputs": [
    {
     "data": {
      "text/plain": [
       "0.8505"
      ]
     },
     "execution_count": 22,
     "metadata": {},
     "output_type": "execute_result"
    }
   ],
   "source": [
    "score"
   ]
  },
  {
   "cell_type": "code",
   "execution_count": 23,
   "metadata": {},
   "outputs": [
    {
     "data": {
      "text/plain": [
       "array([[1527,   80],\n",
       "       [ 219,  174]], dtype=int64)"
      ]
     },
     "execution_count": 23,
     "metadata": {},
     "output_type": "execute_result"
    }
   ],
   "source": [
    "cm"
   ]
  },
  {
   "cell_type": "markdown",
   "metadata": {},
   "source": [
    "#### Some parameter changes \n",
    "- <b> Number of hidden layers </b> = 3\n",
    "- <b> Weight Initializer </b> = He_normal \n",
    "- Different number of units "
   ]
  },
  {
   "cell_type": "code",
   "execution_count": 24,
   "metadata": {},
   "outputs": [],
   "source": [
    "classifier2 = Sequential() \n",
    "classifier2.add(Dense(units = 10, kernel_initializer = 'he_normal', activation = 'relu', input_dim = 11))\n",
    "classifier2.add(Dense(units = 20, kernel_initializer = 'he_normal', activation = 'relu'))\n",
    "classifier2.add(Dense(units = 15, kernel_initializer = 'he_normal', activation = 'relu'))\n",
    "classifier2.add(Dense(units = 1, kernel_initializer = 'glorot_uniform', activation = 'sigmoid'))"
   ]
  },
  {
   "cell_type": "code",
   "execution_count": 25,
   "metadata": {},
   "outputs": [],
   "source": [
    "classifier2.compile(optimizer = 'Adamax', loss = 'binary_crossentropy', metrics = ['accuracy'])"
   ]
  },
  {
   "cell_type": "code",
   "execution_count": 26,
   "metadata": {},
   "outputs": [
    {
     "name": "stdout",
     "output_type": "stream",
     "text": [
      "Epoch 1/100\n",
      "536/536 [==============================] - 4s 5ms/step - loss: 0.5888 - accuracy: 0.7128 - val_loss: 0.4856 - val_accuracy: 0.7910\n",
      "Epoch 2/100\n",
      "536/536 [==============================] - 2s 4ms/step - loss: 0.4783 - accuracy: 0.7951 - val_loss: 0.4696 - val_accuracy: 0.7906\n",
      "Epoch 3/100\n",
      "536/536 [==============================] - 2s 4ms/step - loss: 0.4622 - accuracy: 0.7960 - val_loss: 0.4597 - val_accuracy: 0.7910\n",
      "Epoch 4/100\n",
      "536/536 [==============================] - 2s 3ms/step - loss: 0.4514 - accuracy: 0.7974 - val_loss: 0.4527 - val_accuracy: 0.7906\n",
      "Epoch 5/100\n",
      "536/536 [==============================] - 2s 4ms/step - loss: 0.4435 - accuracy: 0.7970 - val_loss: 0.4472 - val_accuracy: 0.7887\n",
      "Epoch 6/100\n",
      "536/536 [==============================] - 2s 4ms/step - loss: 0.4367 - accuracy: 0.8015 - val_loss: 0.4435 - val_accuracy: 0.7917\n",
      "Epoch 7/100\n",
      "536/536 [==============================] - 2s 4ms/step - loss: 0.4297 - accuracy: 0.8044 - val_loss: 0.4357 - val_accuracy: 0.8001\n",
      "Epoch 8/100\n",
      "536/536 [==============================] - 2s 4ms/step - loss: 0.4221 - accuracy: 0.8110 - val_loss: 0.4296 - val_accuracy: 0.8039\n",
      "Epoch 9/100\n",
      "536/536 [==============================] - 2s 4ms/step - loss: 0.4143 - accuracy: 0.8158 - val_loss: 0.4214 - val_accuracy: 0.8126\n",
      "Epoch 10/100\n",
      "536/536 [==============================] - 3s 5ms/step - loss: 0.4063 - accuracy: 0.8216 - val_loss: 0.4146 - val_accuracy: 0.8141\n",
      "Epoch 11/100\n",
      "536/536 [==============================] - 3s 5ms/step - loss: 0.3993 - accuracy: 0.8253 - val_loss: 0.4087 - val_accuracy: 0.8190\n",
      "Epoch 12/100\n",
      "536/536 [==============================] - 3s 5ms/step - loss: 0.3929 - accuracy: 0.8293 - val_loss: 0.4038 - val_accuracy: 0.8220\n",
      "Epoch 13/100\n",
      "536/536 [==============================] - 2s 4ms/step - loss: 0.3865 - accuracy: 0.8328 - val_loss: 0.3991 - val_accuracy: 0.8213\n",
      "Epoch 14/100\n",
      "536/536 [==============================] - 2s 4ms/step - loss: 0.3810 - accuracy: 0.8349 - val_loss: 0.3953 - val_accuracy: 0.8266\n",
      "Epoch 15/100\n",
      "536/536 [==============================] - 2s 4ms/step - loss: 0.3764 - accuracy: 0.8364 - val_loss: 0.3918 - val_accuracy: 0.8273\n",
      "Epoch 16/100\n",
      "536/536 [==============================] - 2s 4ms/step - loss: 0.3720 - accuracy: 0.8401 - val_loss: 0.3889 - val_accuracy: 0.8277\n",
      "Epoch 17/100\n",
      "536/536 [==============================] - 2s 4ms/step - loss: 0.3684 - accuracy: 0.8438 - val_loss: 0.3884 - val_accuracy: 0.8292\n",
      "Epoch 18/100\n",
      "536/536 [==============================] - 2s 4ms/step - loss: 0.3655 - accuracy: 0.8453 - val_loss: 0.3852 - val_accuracy: 0.8300\n",
      "Epoch 19/100\n",
      "536/536 [==============================] - 2s 4ms/step - loss: 0.3625 - accuracy: 0.8466 - val_loss: 0.3831 - val_accuracy: 0.8334\n",
      "Epoch 20/100\n",
      "536/536 [==============================] - 2s 4ms/step - loss: 0.3599 - accuracy: 0.8475 - val_loss: 0.3822 - val_accuracy: 0.8345\n",
      "Epoch 21/100\n",
      "536/536 [==============================] - 2s 4ms/step - loss: 0.3579 - accuracy: 0.8485 - val_loss: 0.3806 - val_accuracy: 0.8349\n",
      "Epoch 22/100\n",
      "536/536 [==============================] - 2s 4ms/step - loss: 0.3557 - accuracy: 0.8489 - val_loss: 0.3805 - val_accuracy: 0.8379\n",
      "Epoch 23/100\n",
      "536/536 [==============================] - 2s 4ms/step - loss: 0.3546 - accuracy: 0.8496 - val_loss: 0.3792 - val_accuracy: 0.8349\n",
      "Epoch 24/100\n",
      "536/536 [==============================] - 3s 5ms/step - loss: 0.3532 - accuracy: 0.8498 - val_loss: 0.3789 - val_accuracy: 0.8338\n",
      "Epoch 25/100\n",
      "536/536 [==============================] - 3s 5ms/step - loss: 0.3512 - accuracy: 0.8509 - val_loss: 0.3787 - val_accuracy: 0.8360\n",
      "Epoch 26/100\n",
      "536/536 [==============================] - 3s 5ms/step - loss: 0.3506 - accuracy: 0.8507 - val_loss: 0.3786 - val_accuracy: 0.8395\n",
      "Epoch 27/100\n",
      "536/536 [==============================] - 3s 5ms/step - loss: 0.3497 - accuracy: 0.8507 - val_loss: 0.3784 - val_accuracy: 0.8402\n",
      "Epoch 28/100\n",
      "536/536 [==============================] - 3s 5ms/step - loss: 0.3490 - accuracy: 0.8511 - val_loss: 0.3763 - val_accuracy: 0.8372\n",
      "Epoch 29/100\n",
      "536/536 [==============================] - 2s 4ms/step - loss: 0.3478 - accuracy: 0.8526 - val_loss: 0.3780 - val_accuracy: 0.8391\n",
      "Epoch 30/100\n",
      "536/536 [==============================] - 3s 5ms/step - loss: 0.3469 - accuracy: 0.8531 - val_loss: 0.3757 - val_accuracy: 0.8368\n",
      "Epoch 31/100\n",
      "536/536 [==============================] - 3s 6ms/step - loss: 0.3463 - accuracy: 0.8515 - val_loss: 0.3757 - val_accuracy: 0.8391\n",
      "Epoch 32/100\n",
      "536/536 [==============================] - 2s 5ms/step - loss: 0.3452 - accuracy: 0.8517 - val_loss: 0.3763 - val_accuracy: 0.8391\n",
      "Epoch 33/100\n",
      "536/536 [==============================] - 3s 5ms/step - loss: 0.3447 - accuracy: 0.8528 - val_loss: 0.3751 - val_accuracy: 0.8379\n",
      "Epoch 34/100\n",
      "536/536 [==============================] - 3s 6ms/step - loss: 0.3440 - accuracy: 0.8524 - val_loss: 0.3751 - val_accuracy: 0.8387\n",
      "Epoch 35/100\n",
      "536/536 [==============================] - 3s 5ms/step - loss: 0.3432 - accuracy: 0.8533 - val_loss: 0.3750 - val_accuracy: 0.8387\n",
      "Epoch 36/100\n",
      "536/536 [==============================] - 3s 6ms/step - loss: 0.3427 - accuracy: 0.8539 - val_loss: 0.3747 - val_accuracy: 0.8387\n",
      "Epoch 37/100\n",
      "536/536 [==============================] - 3s 6ms/step - loss: 0.3420 - accuracy: 0.8539 - val_loss: 0.3740 - val_accuracy: 0.8387\n",
      "Epoch 38/100\n",
      "536/536 [==============================] - 3s 6ms/step - loss: 0.3412 - accuracy: 0.8539 - val_loss: 0.3736 - val_accuracy: 0.8391\n",
      "Epoch 39/100\n",
      "536/536 [==============================] - 3s 5ms/step - loss: 0.3405 - accuracy: 0.8545 - val_loss: 0.3745 - val_accuracy: 0.8398\n",
      "Epoch 40/100\n",
      "536/536 [==============================] - 3s 5ms/step - loss: 0.3402 - accuracy: 0.8533 - val_loss: 0.3727 - val_accuracy: 0.8410\n",
      "Epoch 41/100\n",
      "536/536 [==============================] - 3s 5ms/step - loss: 0.3395 - accuracy: 0.8561 - val_loss: 0.3735 - val_accuracy: 0.8410\n",
      "Epoch 42/100\n",
      "536/536 [==============================] - 3s 5ms/step - loss: 0.3388 - accuracy: 0.8556 - val_loss: 0.3727 - val_accuracy: 0.8413\n",
      "Epoch 43/100\n",
      "536/536 [==============================] - 2s 5ms/step - loss: 0.3381 - accuracy: 0.8552 - val_loss: 0.3733 - val_accuracy: 0.8387\n",
      "Epoch 44/100\n",
      "536/536 [==============================] - 3s 5ms/step - loss: 0.3378 - accuracy: 0.8559 - val_loss: 0.3728 - val_accuracy: 0.8402\n",
      "Epoch 45/100\n",
      "536/536 [==============================] - 3s 5ms/step - loss: 0.3372 - accuracy: 0.8561 - val_loss: 0.3721 - val_accuracy: 0.8432\n",
      "Epoch 46/100\n",
      "536/536 [==============================] - 3s 5ms/step - loss: 0.3363 - accuracy: 0.8561 - val_loss: 0.3733 - val_accuracy: 0.8402\n",
      "Epoch 47/100\n",
      "536/536 [==============================] - 3s 5ms/step - loss: 0.3362 - accuracy: 0.8563 - val_loss: 0.3718 - val_accuracy: 0.8429\n",
      "Epoch 48/100\n",
      "536/536 [==============================] - 2s 4ms/step - loss: 0.3357 - accuracy: 0.8559 - val_loss: 0.3714 - val_accuracy: 0.8421\n",
      "Epoch 49/100\n",
      "536/536 [==============================] - 2s 4ms/step - loss: 0.3350 - accuracy: 0.8554 - val_loss: 0.3718 - val_accuracy: 0.8402\n",
      "Epoch 50/100\n",
      "536/536 [==============================] - 2s 4ms/step - loss: 0.3350 - accuracy: 0.8576 - val_loss: 0.3709 - val_accuracy: 0.8421\n",
      "Epoch 51/100\n",
      "536/536 [==============================] - 2s 4ms/step - loss: 0.3344 - accuracy: 0.8578 - val_loss: 0.3709 - val_accuracy: 0.8417\n",
      "Epoch 52/100\n",
      "536/536 [==============================] - 2s 4ms/step - loss: 0.3339 - accuracy: 0.8576 - val_loss: 0.3703 - val_accuracy: 0.8417\n",
      "Epoch 53/100\n",
      "536/536 [==============================] - 2s 4ms/step - loss: 0.3332 - accuracy: 0.8587 - val_loss: 0.3714 - val_accuracy: 0.8395\n",
      "Epoch 54/100\n",
      "536/536 [==============================] - 2s 4ms/step - loss: 0.3331 - accuracy: 0.8578 - val_loss: 0.3706 - val_accuracy: 0.8391\n",
      "Epoch 55/100\n",
      "536/536 [==============================] - 2s 5ms/step - loss: 0.3324 - accuracy: 0.8582 - val_loss: 0.3697 - val_accuracy: 0.8421\n",
      "Epoch 56/100\n",
      "536/536 [==============================] - 2s 4ms/step - loss: 0.3321 - accuracy: 0.8591 - val_loss: 0.3698 - val_accuracy: 0.8421\n",
      "Epoch 57/100\n",
      "536/536 [==============================] - 3s 5ms/step - loss: 0.3316 - accuracy: 0.8593 - val_loss: 0.3705 - val_accuracy: 0.8417\n",
      "Epoch 58/100\n",
      "536/536 [==============================] - 3s 5ms/step - loss: 0.3314 - accuracy: 0.8591 - val_loss: 0.3697 - val_accuracy: 0.8417\n",
      "Epoch 59/100\n",
      "536/536 [==============================] - 2s 4ms/step - loss: 0.3310 - accuracy: 0.8595 - val_loss: 0.3693 - val_accuracy: 0.8421\n",
      "Epoch 60/100\n",
      "536/536 [==============================] - 2s 5ms/step - loss: 0.3306 - accuracy: 0.8589 - val_loss: 0.3695 - val_accuracy: 0.8417\n",
      "Epoch 61/100\n",
      "536/536 [==============================] - 2s 4ms/step - loss: 0.3299 - accuracy: 0.8602 - val_loss: 0.3700 - val_accuracy: 0.8395\n",
      "Epoch 62/100\n",
      "536/536 [==============================] - 3s 5ms/step - loss: 0.3298 - accuracy: 0.8599 - val_loss: 0.3691 - val_accuracy: 0.8436\n",
      "Epoch 63/100\n",
      "536/536 [==============================] - 2s 4ms/step - loss: 0.3296 - accuracy: 0.8608 - val_loss: 0.3686 - val_accuracy: 0.8444\n",
      "Epoch 64/100\n",
      "536/536 [==============================] - 2s 4ms/step - loss: 0.3290 - accuracy: 0.8615 - val_loss: 0.3687 - val_accuracy: 0.8421\n",
      "Epoch 65/100\n",
      "536/536 [==============================] - 2s 4ms/step - loss: 0.3285 - accuracy: 0.8617 - val_loss: 0.3691 - val_accuracy: 0.8417\n",
      "Epoch 66/100\n",
      "536/536 [==============================] - 2s 4ms/step - loss: 0.3279 - accuracy: 0.8623 - val_loss: 0.3688 - val_accuracy: 0.8440\n",
      "Epoch 67/100\n",
      "536/536 [==============================] - 2s 5ms/step - loss: 0.3278 - accuracy: 0.8628 - val_loss: 0.3680 - val_accuracy: 0.8455\n",
      "Epoch 68/100\n",
      "536/536 [==============================] - 2s 4ms/step - loss: 0.3272 - accuracy: 0.8606 - val_loss: 0.3688 - val_accuracy: 0.8421\n",
      "Epoch 69/100\n",
      "536/536 [==============================] - 2s 5ms/step - loss: 0.3271 - accuracy: 0.8625 - val_loss: 0.3677 - val_accuracy: 0.8448\n",
      "Epoch 70/100\n",
      "536/536 [==============================] - 2s 4ms/step - loss: 0.3268 - accuracy: 0.8623 - val_loss: 0.3681 - val_accuracy: 0.8436\n",
      "Epoch 71/100\n",
      "536/536 [==============================] - 3s 5ms/step - loss: 0.3264 - accuracy: 0.8621 - val_loss: 0.3682 - val_accuracy: 0.8440\n",
      "Epoch 72/100\n",
      "536/536 [==============================] - 2s 5ms/step - loss: 0.3261 - accuracy: 0.8614 - val_loss: 0.3673 - val_accuracy: 0.8451\n",
      "Epoch 73/100\n",
      "536/536 [==============================] - 2s 4ms/step - loss: 0.3258 - accuracy: 0.8619 - val_loss: 0.3677 - val_accuracy: 0.8444\n",
      "Epoch 74/100\n",
      "536/536 [==============================] - 3s 5ms/step - loss: 0.3254 - accuracy: 0.8645 - val_loss: 0.3672 - val_accuracy: 0.8448\n",
      "Epoch 75/100\n",
      "536/536 [==============================] - 2s 4ms/step - loss: 0.3253 - accuracy: 0.8634 - val_loss: 0.3676 - val_accuracy: 0.8448\n",
      "Epoch 76/100\n",
      "536/536 [==============================] - 2s 4ms/step - loss: 0.3248 - accuracy: 0.8636 - val_loss: 0.3677 - val_accuracy: 0.8455\n",
      "Epoch 77/100\n",
      "536/536 [==============================] - 2s 4ms/step - loss: 0.3247 - accuracy: 0.8643 - val_loss: 0.3685 - val_accuracy: 0.8448\n",
      "Epoch 78/100\n",
      "536/536 [==============================] - 2s 4ms/step - loss: 0.3243 - accuracy: 0.8643 - val_loss: 0.3678 - val_accuracy: 0.8455\n",
      "Epoch 79/100\n",
      "536/536 [==============================] - 2s 4ms/step - loss: 0.3240 - accuracy: 0.8640 - val_loss: 0.3670 - val_accuracy: 0.8466\n",
      "Epoch 80/100\n",
      "536/536 [==============================] - 2s 5ms/step - loss: 0.3235 - accuracy: 0.8643 - val_loss: 0.3677 - val_accuracy: 0.8466\n",
      "Epoch 81/100\n",
      "536/536 [==============================] - 3s 5ms/step - loss: 0.3223 - accuracy: 0.8651 - val_loss: 0.3719 - val_accuracy: 0.8425\n",
      "Epoch 82/100\n",
      "536/536 [==============================] - 3s 5ms/step - loss: 0.3232 - accuracy: 0.8655 - val_loss: 0.3668 - val_accuracy: 0.8451\n",
      "Epoch 83/100\n",
      "536/536 [==============================] - 3s 5ms/step - loss: 0.3222 - accuracy: 0.8645 - val_loss: 0.3675 - val_accuracy: 0.8489\n",
      "Epoch 84/100\n",
      "536/536 [==============================] - 3s 5ms/step - loss: 0.3223 - accuracy: 0.8653 - val_loss: 0.3667 - val_accuracy: 0.8463\n",
      "Epoch 85/100\n",
      "536/536 [==============================] - 2s 4ms/step - loss: 0.3224 - accuracy: 0.8664 - val_loss: 0.3667 - val_accuracy: 0.8455\n",
      "Epoch 86/100\n",
      "536/536 [==============================] - 3s 5ms/step - loss: 0.3217 - accuracy: 0.8655 - val_loss: 0.3670 - val_accuracy: 0.8455\n",
      "Epoch 87/100\n",
      "536/536 [==============================] - 2s 4ms/step - loss: 0.3215 - accuracy: 0.8662 - val_loss: 0.3668 - val_accuracy: 0.8493\n",
      "Epoch 88/100\n",
      "536/536 [==============================] - 2s 5ms/step - loss: 0.3211 - accuracy: 0.8658 - val_loss: 0.3673 - val_accuracy: 0.8478\n",
      "Epoch 89/100\n",
      "536/536 [==============================] - 2s 5ms/step - loss: 0.3209 - accuracy: 0.8656 - val_loss: 0.3674 - val_accuracy: 0.8463\n",
      "Epoch 90/100\n",
      "536/536 [==============================] - 2s 4ms/step - loss: 0.3206 - accuracy: 0.8653 - val_loss: 0.3684 - val_accuracy: 0.8489\n",
      "Epoch 91/100\n",
      "536/536 [==============================] - 2s 4ms/step - loss: 0.3204 - accuracy: 0.8655 - val_loss: 0.3680 - val_accuracy: 0.8482\n",
      "Epoch 92/100\n",
      "536/536 [==============================] - 2s 4ms/step - loss: 0.3200 - accuracy: 0.8668 - val_loss: 0.3682 - val_accuracy: 0.8451\n",
      "Epoch 93/100\n",
      "536/536 [==============================] - 2s 4ms/step - loss: 0.3191 - accuracy: 0.8684 - val_loss: 0.3680 - val_accuracy: 0.8489\n",
      "Epoch 94/100\n",
      "536/536 [==============================] - 2s 5ms/step - loss: 0.3200 - accuracy: 0.8656 - val_loss: 0.3670 - val_accuracy: 0.8489\n",
      "Epoch 95/100\n",
      "536/536 [==============================] - 2s 4ms/step - loss: 0.3196 - accuracy: 0.8662 - val_loss: 0.3675 - val_accuracy: 0.8474\n",
      "Epoch 96/100\n",
      "536/536 [==============================] - 2s 4ms/step - loss: 0.3191 - accuracy: 0.8660 - val_loss: 0.3682 - val_accuracy: 0.8466\n",
      "Epoch 97/100\n",
      "536/536 [==============================] - 2s 5ms/step - loss: 0.3189 - accuracy: 0.8664 - val_loss: 0.3672 - val_accuracy: 0.8512\n",
      "Epoch 98/100\n",
      "536/536 [==============================] - 2s 5ms/step - loss: 0.3187 - accuracy: 0.8671 - val_loss: 0.3670 - val_accuracy: 0.8493\n",
      "Epoch 99/100\n",
      "536/536 [==============================] - 3s 5ms/step - loss: 0.3184 - accuracy: 0.8679 - val_loss: 0.3666 - val_accuracy: 0.8493\n",
      "Epoch 100/100\n",
      "536/536 [==============================] - 2s 4ms/step - loss: 0.3181 - accuracy: 0.8671 - val_loss: 0.3674 - val_accuracy: 0.8482\n"
     ]
    }
   ],
   "source": [
    "#Fitting the ANN to the training set \n",
    "model_history2 = classifier2.fit(X_train, y_train, validation_split = 0.33, batch_size = 10, epochs = 100)"
   ]
  },
  {
   "cell_type": "markdown",
   "metadata": {},
   "source": [
    "We could also add dropout (in case of very deep neural networks) "
   ]
  },
  {
   "cell_type": "code",
   "execution_count": 27,
   "metadata": {},
   "outputs": [],
   "source": [
    "#classifier.add(Dropout(p))\n",
    "#Add this after eaach classifier.add(Dense()) statement"
   ]
  },
  {
   "cell_type": "code",
   "execution_count": 28,
   "metadata": {},
   "outputs": [
    {
     "name": "stdout",
     "output_type": "stream",
     "text": [
      "63/63 [==============================] - 0s 2ms/step\n"
     ]
    }
   ],
   "source": [
    "#Predicting the test set results \n",
    "y_pred2 = classifier2.predict(X_test) \n",
    "y_pred2 = (y_pred2 > 0.5) "
   ]
  },
  {
   "cell_type": "code",
   "execution_count": 29,
   "metadata": {},
   "outputs": [
    {
     "name": "stdout",
     "output_type": "stream",
     "text": [
      "0.854\n"
     ]
    }
   ],
   "source": [
    "print(accuracy_score(y_test, y_pred2))"
   ]
  },
  {
   "cell_type": "code",
   "execution_count": 30,
   "metadata": {},
   "outputs": [
    {
     "name": "stdout",
     "output_type": "stream",
     "text": [
      "[[1530   77]\n",
      " [ 215  178]]\n"
     ]
    }
   ],
   "source": [
    "print(confusion_matrix(y_test, y_pred2))"
   ]
  },
  {
   "cell_type": "code",
   "execution_count": null,
   "metadata": {},
   "outputs": [],
   "source": []
  }
 ],
 "metadata": {
  "kernelspec": {
   "display_name": "Python 3",
   "language": "python",
   "name": "python3"
  },
  "language_info": {
   "codemirror_mode": {
    "name": "ipython",
    "version": 3
   },
   "file_extension": ".py",
   "mimetype": "text/x-python",
   "name": "python",
   "nbconvert_exporter": "python",
   "pygments_lexer": "ipython3",
   "version": "3.8.5"
  }
 },
 "nbformat": 4,
 "nbformat_minor": 4
}
